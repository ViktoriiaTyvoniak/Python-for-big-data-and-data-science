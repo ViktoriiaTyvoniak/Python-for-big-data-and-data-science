{
  "nbformat": 4,
  "nbformat_minor": 0,
  "metadata": {
    "colab": {
      "provenance": []
    },
    "kernelspec": {
      "name": "python3",
      "display_name": "Python 3"
    },
    "language_info": {
      "name": "python"
    }
  },
  "cells": [
    {
      "cell_type": "markdown",
      "source": [
        "# I. OOP"
      ],
      "metadata": {
        "id": "5qV_sehzFCTp"
      }
    },
    {
      "cell_type": "markdown",
      "source": [
        "1. (6б). Створіть клас Building, додайте три атрибути, один з яких має значення за замовчуванням та два методи на свій розсуд."
      ],
      "metadata": {
        "id": "tx_U_hOALyfg"
      }
    },
    {
      "cell_type": "code",
      "source": [
        "class Building:\n",
        "  def __init__(self, street_number, width, height = 50):\n",
        "    if street_number >= 0:\n",
        "      self.street_number = street_number\n",
        "    else:\n",
        "       print(\"Street number must be non-negative. Setting to default value 0.\")\n",
        "       self.street_number = 0\n",
        "\n",
        "    if width > 0:\n",
        "      self.width = width\n",
        "    else:\n",
        "       print(\"Width must be a positive number. Setting to default value 10.\")\n",
        "       self.width = 10\n",
        "\n",
        "    self.height = height\n",
        "    self.window_count = 0\n",
        "\n",
        "  def has_windows(self, window_count):\n",
        "    if isinstance(window_count, int) and window_count >= 1:\n",
        "      self.window_count = window_count\n",
        "    else:\n",
        "      print(\"There has to be some windows if you're here. Setting to default value 1.\")\n",
        "      self.window_count = 1\n",
        "\n",
        "\n",
        "  def __str__(self):\n",
        "        return f\"You can find the building at number {self.street_number} with width {self.width}, height {self.height} and {self.window_count} windows\"\n",
        ""
      ],
      "metadata": {
        "id": "-Vf895KaL88N"
      },
      "execution_count": 29,
      "outputs": []
    },
    {
      "cell_type": "markdown",
      "source": [
        "2. (2б). Створіть два обʼєкти цього класу, де один з обʼєктів створюється із дефолтним значенням атрибуту. На одному обʼєкті отримайте значення його атрибуту, а на іншому викличте один з його методів."
      ],
      "metadata": {
        "id": "X_UlOMB0L93w"
      }
    },
    {
      "cell_type": "code",
      "source": [
        "house = Building(30,20)\n",
        "\n",
        "basement = Building(24,84,2)\n",
        "\n",
        "print(house.height)\n",
        "print(basement.window_count)"
      ],
      "metadata": {
        "id": "7gBu0ESOMCpG",
        "colab": {
          "base_uri": "https://localhost:8080/"
        },
        "outputId": "5a8c4451-1579-4925-848e-8385960b1081"
      },
      "execution_count": 36,
      "outputs": [
        {
          "output_type": "stream",
          "name": "stdout",
          "text": [
            "50\n",
            "0\n"
          ]
        }
      ]
    },
    {
      "cell_type": "markdown",
      "source": [
        "3. (5б). Створіть клас, де атрибути мають різні рівні доступу. Спробуйте отримати їхні значення та опишіть результати."
      ],
      "metadata": {
        "id": "HoqSCZt1MHn5"
      }
    },
    {
      "cell_type": "code",
      "source": [
        "class TopSecret:\n",
        "  def __init__(self, docs, report, gov_programs):\n",
        "    self.docs = docs\n",
        "    self._report = report\n",
        "    self.__gov_programs = gov_programs\n",
        "\n",
        "my_folder = TopSecret(\"300 documents\", \"5 secret reports I asked not to read\", \"1 secret program you can't acsess\")\n",
        "\n",
        "print(my_folder.docs) #easy to acsess, is for everyone to change\n",
        "print(my_folder._report) #you can acsess it, but it's polite not to (no protection on it from Python, just agreement)\n",
        "print(my_folder.__gov_programs) #no acsess, though through method you can do it\n"
      ],
      "metadata": {
        "id": "r9b3vJxBMSPV",
        "colab": {
          "base_uri": "https://localhost:8080/",
          "height": 211
        },
        "outputId": "e387a38b-2842-4cba-dd10-8cfd0933dc31"
      },
      "execution_count": 41,
      "outputs": [
        {
          "output_type": "stream",
          "name": "stdout",
          "text": [
            "300 documents\n",
            "5 secret reports I asked not to read\n"
          ]
        },
        {
          "output_type": "error",
          "ename": "AttributeError",
          "evalue": "'TopSecret' object has no attribute '__gov_programs'",
          "traceback": [
            "\u001b[0;31m---------------------------------------------------------------------------\u001b[0m",
            "\u001b[0;31mAttributeError\u001b[0m                            Traceback (most recent call last)",
            "\u001b[0;32m<ipython-input-41-2f9f6360b46c>\u001b[0m in \u001b[0;36m<cell line: 0>\u001b[0;34m()\u001b[0m\n\u001b[1;32m      9\u001b[0m \u001b[0mprint\u001b[0m\u001b[0;34m(\u001b[0m\u001b[0mmy_folder\u001b[0m\u001b[0;34m.\u001b[0m\u001b[0mdocs\u001b[0m\u001b[0;34m)\u001b[0m\u001b[0;34m\u001b[0m\u001b[0;34m\u001b[0m\u001b[0m\n\u001b[1;32m     10\u001b[0m \u001b[0mprint\u001b[0m\u001b[0;34m(\u001b[0m\u001b[0mmy_folder\u001b[0m\u001b[0;34m.\u001b[0m\u001b[0m_report\u001b[0m\u001b[0;34m)\u001b[0m\u001b[0;34m\u001b[0m\u001b[0;34m\u001b[0m\u001b[0m\n\u001b[0;32m---> 11\u001b[0;31m \u001b[0mprint\u001b[0m\u001b[0;34m(\u001b[0m\u001b[0mmy_folder\u001b[0m\u001b[0;34m.\u001b[0m\u001b[0m__gov_programs\u001b[0m\u001b[0;34m)\u001b[0m\u001b[0;34m\u001b[0m\u001b[0;34m\u001b[0m\u001b[0m\n\u001b[0m",
            "\u001b[0;31mAttributeError\u001b[0m: 'TopSecret' object has no attribute '__gov_programs'"
          ]
        }
      ]
    },
    {
      "cell_type": "markdown",
      "source": [
        "4. (7б). Як ви розумієте термін self? Для чого використовується метод __init __?"
      ],
      "metadata": {
        "id": "5op2m2vgMSkZ"
      }
    },
    {
      "cell_type": "markdown",
      "source": [
        "Self - це такий собі спосіб сказати \"цей конкретно об'єкт\". Self дозволяє посилатися на властивості та методи цього конкретного об'єкта. __init __ дозволяє задати першопочаткові параметри об'єкту, наче \"от, у нас є Self як сам об'єкт, а ще йому належать...\". Тобто він використовується для того, щоб задати початкові налаштування"
      ],
      "metadata": {
        "id": "DyiPqNRvMasx"
      }
    },
    {
      "cell_type": "markdown",
      "source": [
        "5. (9б). Створіть клас 3D-фігура без атрибутів, з методом get_volume для отримання об'єму фігури, що повертає 0 та __add __, який приймає self та other в якості аргументів, а повертає суму об'ємів 3d-фігур self та other."
      ],
      "metadata": {
        "id": "-6X8EGfjMd2y"
      }
    },
    {
      "cell_type": "code",
      "source": [
        "class ThreeDFigure:\n",
        "  def get_volume(self):\n",
        "    return 0\n",
        "\n",
        "  def __add__(self, other):\n",
        "    return self.get_volume() + other.get_volume()"
      ],
      "metadata": {
        "id": "4rvO_wYUMaEr"
      },
      "execution_count": 45,
      "outputs": []
    },
    {
      "cell_type": "markdown",
      "source": [
        "6. (11б). Створіть 2 дочірніх класи від 3d-фігура: Циліндр та Куб, які мають атрибути, необхідні для розрахунку об'єму. Визначте метод get_volume в кожному з них так, щоби вони розраховували об'єм у залежності від формули для кожного типу фігури. Створіть обʼєкт класу Циліндр та обʼєкт класу Куб. Виконайте операцію суми за допомогою оператора + між ними, аби знайти сумарний об'єм."
      ],
      "metadata": {
        "id": "SFcKnnv5Mo_z"
      }
    },
    {
      "cell_type": "code",
      "source": [
        "class Cylinder(ThreeDFigure):\n",
        "  def __init__(self, radius, height):\n",
        "    self.radius = radius\n",
        "    self.height = height\n",
        "\n",
        "  def get_volume(self):\n",
        "    return 3.14 * self.radius**2 * self.height\n",
        "\n",
        "\n",
        "class Cube(ThreeDFigure):\n",
        "  def __init__(self, length):\n",
        "    self.length = length\n",
        "\n",
        "  def get_volume(self):\n",
        "    return self.length**3\n",
        "\n",
        "my_cylinder = Cylinder(2,6)\n",
        "my_cube = Cube(3)\n",
        "\n",
        "my_cylinder + my_cube"
      ],
      "metadata": {
        "id": "H3GVNr69Muf3",
        "colab": {
          "base_uri": "https://localhost:8080/"
        },
        "outputId": "95ad073a-aaef-47a7-9288-ce67a22c7f25"
      },
      "execution_count": 55,
      "outputs": [
        {
          "output_type": "execute_result",
          "data": {
            "text/plain": [
              "102.36"
            ]
          },
          "metadata": {},
          "execution_count": 55
        }
      ]
    },
    {
      "cell_type": "markdown",
      "source": [
        "7. (3б). Продемонструйте різницю між isinstance та issubclass.\n",
        "\n"
      ],
      "metadata": {
        "id": "HCvR206YMvLK"
      }
    },
    {
      "cell_type": "code",
      "source": [
        "print(isinstance(house, ThreeDFigure)) #checking (object *in* Class)\n",
        "print(issubclass(Cube, ThreeDFigure)) #checking (subclass *in* Class(es))"
      ],
      "metadata": {
        "id": "L_V1bBvDM0GN",
        "colab": {
          "base_uri": "https://localhost:8080/"
        },
        "outputId": "84ddaa6b-bf58-490c-8d97-221d9cac698e"
      },
      "execution_count": 67,
      "outputs": [
        {
          "output_type": "stream",
          "name": "stdout",
          "text": [
            "False\n",
            "True\n"
          ]
        }
      ]
    },
    {
      "cell_type": "markdown",
      "source": [
        "8. (13б). Створіть клас EWallet з приватними атрибутами balance та id. Реалізуйте методи поповнення та зняття коштів, забезпечивши належну інкапсуляцію. Підказка: використовуйте декоратори property та setter."
      ],
      "metadata": {
        "id": "jjsaBZ-iM0Qq"
      }
    },
    {
      "cell_type": "code",
      "source": [
        "class EWallet:\n",
        "    def __init__(self, balance, id):\n",
        "        self.__balance = balance\n",
        "        self.__id = id\n",
        "\n",
        "    @property\n",
        "    def balance(self):\n",
        "        return self.__balance\n",
        "\n",
        "    @balance.setter\n",
        "    def balance(self, amount):\n",
        "        print(\"You can't set balance directly! Use deposit or withdraw methods.\")\n",
        "\n",
        "    @property\n",
        "    def get_wallet_id(self):\n",
        "        return self.__id\n",
        "\n",
        "    def deposit(self, amount):\n",
        "        if amount > 0:\n",
        "            self.__balance += amount\n",
        "            print(f\"Deposited {amount}. New balance: {self.__balance}\")\n",
        "        else:\n",
        "            print(\"Deposit amount must be positive!\")\n",
        "\n",
        "    def withdraw(self, amount):\n",
        "        if 0 < amount <= self.__balance:\n",
        "            self.__balance -= amount\n",
        "            print(f\"Withdrawn {amount}. New balance: {self.__balance}\")\n",
        "        else:\n",
        "            print(\"Invalid withdrawal amount!\")\n",
        "\n",
        "\n",
        "my_wallet = EWallet(500, 2165125)\n",
        "\n",
        "my_wallet.deposit(200)\n",
        "my_wallet.withdraw(300)\n",
        "my_wallet.balance = 300\n",
        "\n",
        "\n",
        "\n",
        ""
      ],
      "metadata": {
        "id": "xCvZ7lh8M7YA",
        "colab": {
          "base_uri": "https://localhost:8080/"
        },
        "outputId": "9234b569-2715-4956-cd7a-3e2e4f611d6e"
      },
      "execution_count": 42,
      "outputs": [
        {
          "output_type": "stream",
          "name": "stdout",
          "text": [
            "Deposited 200. New balance: 700\n",
            "Withdrawn 300. New balance: 400\n",
            "You can't set balance directly! Use deposit or withdraw methods.\n"
          ]
        }
      ]
    },
    {
      "cell_type": "markdown",
      "source": [
        "9. (11б). Створіть клас ShoppingCart, який містить список об'єктів типу Item. Реалізуйте методи для додавання айтемів, їх видалення та відображення списку айтемів."
      ],
      "metadata": {
        "id": "tIzL2SJTM8ft"
      }
    },
    {
      "cell_type": "code",
      "source": [
        "class Item:\n",
        "  def __init__(self, name):\n",
        "    self.name = name\n",
        "\n",
        "\n",
        "class ShoppingCart:\n",
        "  def __init__(self):\n",
        "    self.my_shopping_list = []\n",
        "\n",
        "  def add_item(self, item):\n",
        "    if isinstance(item, Item):\n",
        "      self.my_shopping_list.append(item)\n",
        "      print(f\"Item {item.name} added to your cart\")\n",
        "    else:\n",
        "      print(\"Only Items can be added\")\n",
        "\n",
        "  def delete_item(self, item):\n",
        "    if item in self.my_shopping_list:\n",
        "      self.my_shopping_list.remove(item)\n",
        "      print(f\"Item {item.name} removed from your cart\")\n",
        "    else:\n",
        "      print(f\"Item {item.name} is not in your cart\")\n",
        "\n",
        "  def show_items(self):\n",
        "        if self.my_shopping_list:\n",
        "            print(\"Items in your cart:\")\n",
        "            for item in self.my_shopping_list:\n",
        "                print(f\"- {item.name}\")\n",
        "        else:\n",
        "            print(\"Your shopping cart is empty.\")\n",
        "\n",
        "apple = Item(\"Apple\")\n",
        "milk = Item(\"Milk\")\n",
        "comp = Item(\"Computer\")\n",
        "\n",
        "cart = ShoppingCart()\n",
        "\n",
        "cart.add_item(apple)\n",
        "cart.add_item(milk)\n",
        "cart.add_item(comp)\n",
        "cart.show_items()\n",
        "cart.delete_item(comp)\n",
        "cart.show_items()"
      ],
      "metadata": {
        "id": "HWxfJKLtNAUZ",
        "colab": {
          "base_uri": "https://localhost:8080/"
        },
        "outputId": "62d340b6-5e44-45ea-feb8-03a54140ae20"
      },
      "execution_count": 14,
      "outputs": [
        {
          "output_type": "stream",
          "name": "stdout",
          "text": [
            "Item Apple added to your cart\n",
            "Item Milk added to your cart\n",
            "Item Computer added to your cart\n",
            "Items in your cart:\n",
            "- Apple\n",
            "- Milk\n",
            "- Computer\n",
            "Item Computer removed from your cart\n",
            "Items in your cart:\n",
            "- Apple\n",
            "- Milk\n"
          ]
        }
      ]
    },
    {
      "cell_type": "markdown",
      "source": [
        "10. (13б). Створіть клас Vehicle з атрибутами brand (manufacturer) та production_age. Створіть ще один клас Engine з такими атрибутами, як type (ex. petrol) та size (volume, litres). Створіть клас Car, який успадковує обидва класи Vehicle та Engine. Продемонструйте використання множинної спадковості, створивши обʼєкт класу Car та отримавши mro для цього класу."
      ],
      "metadata": {
        "id": "lmV8pAwwNIqu"
      }
    },
    {
      "cell_type": "code",
      "source": [
        "class Vehicle:\n",
        "  def __init__(self, brand, production_age):\n",
        "    self.brand = brand\n",
        "    self.production_age = production_age\n",
        "\n",
        "class Engine:\n",
        "  def __init__(self, pet_type, size):\n",
        "    self.pet_type = pet_type\n",
        "    self.size = size\n",
        "\n",
        "class Car(Vehicle, Engine):\n",
        "  def __init__(self, brand, production_age, pet_type, size, model):\n",
        "    Vehicle.__init__(self, brand, production_age)\n",
        "    Engine.__init__(self, pet_type, size)\n",
        "    self.model = model\n",
        "\n",
        "  def __str__(self):\n",
        "    return (f\"Car: {self.brand} {self.model}, Age: {self.production_age} years, \"\n",
        "                f\"Fuel: {self.pet_type}, {self.size}L\")\n",
        "\n",
        "my_car = Car(\"Ford\", 5, \"petrol\", 5.8, \"Focus\")\n",
        "print(my_car)\n",
        "print(Car.mro())"
      ],
      "metadata": {
        "id": "R49grKlWNPeN",
        "colab": {
          "base_uri": "https://localhost:8080/"
        },
        "outputId": "2e7f8651-8ac9-4b66-b370-f4948663f58c"
      },
      "execution_count": 22,
      "outputs": [
        {
          "output_type": "stream",
          "name": "stdout",
          "text": [
            "Car: Ford Focus, Age: 5 years, Fuel: petrol, 5.8L\n",
            "[<class '__main__.Car'>, <class '__main__.Vehicle'>, <class '__main__.Engine'>, <class 'object'>]\n"
          ]
        }
      ]
    },
    {
      "cell_type": "markdown",
      "source": [
        "# II. Iterator"
      ],
      "metadata": {
        "id": "dIJyUiNBFG8G"
      }
    },
    {
      "cell_type": "markdown",
      "source": [
        "11. (4б). Визначте рядок(str) з 4ма різними за значенням символами. Створіть ітератор на основі цього рядка. Викличте 5 разів функцію next на ітераторі, 4ри перших з них огорніть у ф-цію print()."
      ],
      "metadata": {
        "id": "13vsm0NyKIzL"
      }
    },
    {
      "cell_type": "code",
      "source": [
        "my_str = \"abcd\"\n",
        "\n",
        "iterator = iter(my_str)\n",
        "\n",
        "print(next(iterator))\n",
        "print(next(iterator))\n",
        "print(next(iterator))\n",
        "print(next(iterator))\n",
        "# next(iterator)"
      ],
      "metadata": {
        "id": "81ntabAkKuz-",
        "colab": {
          "base_uri": "https://localhost:8080/"
        },
        "outputId": "0558250e-5507-4a65-cdf1-539083d69956"
      },
      "execution_count": 51,
      "outputs": [
        {
          "output_type": "stream",
          "name": "stdout",
          "text": [
            "a\n",
            "b\n",
            "c\n",
            "d\n"
          ]
        }
      ]
    },
    {
      "cell_type": "markdown",
      "source": [
        "А що якщо викликати цю ж функцію на рядку?"
      ],
      "metadata": {
        "id": "aekWHGXOLRsO"
      }
    },
    {
      "cell_type": "code",
      "source": [
        "next(my_str)"
      ],
      "metadata": {
        "id": "mxATGsErLV1i",
        "colab": {
          "base_uri": "https://localhost:8080/",
          "height": 141
        },
        "outputId": "5421d0a1-39be-40a2-d43e-2bcdddc04ea1"
      },
      "execution_count": 52,
      "outputs": [
        {
          "output_type": "error",
          "ename": "TypeError",
          "evalue": "'str' object is not an iterator",
          "traceback": [
            "\u001b[0;31m---------------------------------------------------------------------------\u001b[0m",
            "\u001b[0;31mTypeError\u001b[0m                                 Traceback (most recent call last)",
            "\u001b[0;32m<ipython-input-52-b507c466c498>\u001b[0m in \u001b[0;36m<cell line: 0>\u001b[0;34m()\u001b[0m\n\u001b[0;32m----> 1\u001b[0;31m \u001b[0mnext\u001b[0m\u001b[0;34m(\u001b[0m\u001b[0mmy_str\u001b[0m\u001b[0;34m)\u001b[0m\u001b[0;34m\u001b[0m\u001b[0;34m\u001b[0m\u001b[0m\n\u001b[0m",
            "\u001b[0;31mTypeError\u001b[0m: 'str' object is not an iterator"
          ]
        }
      ]
    },
    {
      "cell_type": "markdown",
      "source": [
        " 12. (5б). Опишіть своїми словами в одному реченні, як ви розумієте різницю між ітерабельними обʼєктами та ітераторами (можна на прикладі)."
      ],
      "metadata": {
        "id": "XwtMEopwJ4pH"
      }
    },
    {
      "cell_type": "markdown",
      "source": [
        "Ітерабельний об'єкт — це об'єкт, з якого можна отримати ітератор (наприклад, список), а ітератор — це об'єкт, який \"пам'ятає\" поточну позицію і може по черзі повернути елементи цього об'єкта. Тобто, список — це ітерабельний об'єкт, а створений з нього ітератор дає нам можливість по черзі отримувати елементи."
      ],
      "metadata": {
        "id": "-sHrODc3KFn8"
      }
    },
    {
      "cell_type": "markdown",
      "source": [
        "13. (11б). Створіть клас, що має визначений Iterator Protocol та при кожному виклику next повертає назву дня тижня, поки вони не вичерпаються. Зверніть увагу, що порядок має значення."
      ],
      "metadata": {
        "id": "E9qJWmNbK8Gl"
      }
    },
    {
      "cell_type": "code",
      "source": [
        "class Weekdays:\n",
        "  def __init__(self):\n",
        "    self.weekdays = [\"Monday\", \"Tuesday\", \"Wednesday\", \"Thursday\", \"Friday\", \"Saturday\", \"Sunday\"]\n",
        "    self.start = 0\n",
        "\n",
        "  def __iter__(self):\n",
        "    return self\n",
        "\n",
        "  def __next__(self):\n",
        "    if self.start > len(self.weekdays):\n",
        "      raise StopIteration\n",
        "    else:\n",
        "      day = self.weekdays[self.start]\n",
        "      self.start += 1\n",
        "      return day\n",
        "\n",
        "weekdays_iter = Weekdays()\n"
      ],
      "metadata": {
        "id": "cqx-g_RsLo6I"
      },
      "execution_count": 94,
      "outputs": []
    },
    {
      "cell_type": "code",
      "source": [
        "next(weekdays_iter)"
      ],
      "metadata": {
        "id": "TOV54-xD5sVg"
      },
      "execution_count": null,
      "outputs": []
    },
    {
      "cell_type": "markdown",
      "source": [
        "# Вітаю! Ви велика(ий) молодець, що впоралась(вся). Похваліть себе та побалуйте чимось приємним. Я Вами пишаюся."
      ],
      "metadata": {
        "id": "Z3E3S_s1Fv7-"
      }
    }
  ]
}